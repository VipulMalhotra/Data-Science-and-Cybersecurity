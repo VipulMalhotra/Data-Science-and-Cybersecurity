{
 "cells": [
  {
   "cell_type": "code",
   "execution_count": 2,
   "metadata": {},
   "outputs": [
    {
     "name": "stdout",
     "output_type": "stream",
     "text": [
      "Old shape: (500, 6)\n",
      "New shape: (499, 6)\n",
      "execution time is 204.3107409477234\n"
     ]
    }
   ],
   "source": [
    "import string\n",
    "import pandas as pd\n",
    "import numpy as np\n",
    "import spacy\n",
    "from nltk.corpus import stopwords\n",
    "from sklearn.feature_extraction.stop_words import ENGLISH_STOP_WORDS\n",
    "from sklearn.feature_extraction.text import TfidfVectorizer, CountVectorizer\n",
    "from sklearn.linear_model import LogisticRegression\n",
    "from sklearn.metrics import f1_score, accuracy_score, r2_score\n",
    "from sklearn.model_selection import (train_test_split, learning_curve, cross_val_score, cross_val_predict, \n",
    "ShuffleSplit, KFold)\n",
    "import time\n",
    "from sklearn.ensemble import RandomForestClassifier\n",
    "from sklearn.naive_bayes import MultinomialNB\n",
    "from sklearn import metrics\n",
    "from sklearn import svm\n",
    "from sklearn.svm import SVC\n",
    "import matplotlib.pyplot as plt\n",
    "\n",
    "nlp = spacy.load('en_core_web_sm')\n",
    "STOPLIST = set(stopwords.words('english') + list(ENGLISH_STOP_WORDS))\n",
    "SYMBOLS = \" \".join(string.punctuation).split(\" \") + [\"-\", \"...\", \"”\", \"!\", \"#\", \"$\", \"%\", \"&\", \"(\", \")\", \"*\", \"+\", \"-\",\n",
    "                            \".\", \"/\", \":\", \";\", \"<\", \"=\", \">\", \"?\", \"@\", \"[\", \"]\", \"^\", \"_\", \"`\", \"{\", \"|\", \"}\", \"~\"]\n",
    "\n",
    "ignore_words = ['i', 'me', 'my', 'myself', 'we', 'our', 'ours', 'ourselves', 'you', 'your', 'yours', 'yourself',\n",
    "                'yourselves', 'he', 'him', 'his', 'himself', 'she', 'her', 'hers', 'herself', 'it', 'its', 'itself',\n",
    "                'they', 'them', 'their', 'theirs', 'themselves', 'what', 'which', 'who', 'whom', 'this', 'that',\n",
    "                'these', 'those', 'am', 'is', 'are', 'was', 'were', 'be', 'been', 'being', 'have', 'has', 'had',\n",
    "                'having', 'do', 'does', 'did', 'doing', 'a', 'an', 'the', 'and', 'but', 'if', 'or', 'because', 'as',\n",
    "                'until', 'while', 'of', 'at', 'by', 'for', 'with', 'about', 'against', 'between', 'into', 'through',\n",
    "                'during', 'before', 'after', 'above', 'below', 'to', 'from', 'up', 'down', 'in', 'out', 'on', 'off',\n",
    "                'over', 'under', 'again', 'further', 'then', 'once', 'here', 'there', 'when', 'where', 'why', 'how',\n",
    "                'all', 'any', 'both', 'each', 'few', 'more', 'most', 'other', 'some', 'such', 'no', 'nor', 'not',\n",
    "                'only', 'own', 'same', 'so', 'than', 'too', 'very', 's', 't', 'can', 'will', 'just', 'don',\n",
    "                'should', 'now', 'uses', 'use', 'using', 'used', 'one', 'also']\n",
    "\n",
    "dataset = pd.read_csv(r'SampleDataset.csv', sep=\",\", engine='python')\n",
    "dataset=dataset.dropna()\n",
    "print(\"Old shape:\", dataset.shape)\n",
    "\n",
    "\n",
    "# Data cleaning function\n",
    "def clean_data(dataset):\n",
    "    # Remove punctuations\n",
    "    dataset['text'] = dataset['text'].str.replace(',', \" \")\n",
    "    dataset['text'] = dataset['text'].str.replace('“', \" \")\n",
    "    dataset['text'] = dataset['text'].str.replace('’', \" \")\n",
    "    # Make sure any double-spaces are single\n",
    "    dataset['text'] = dataset['text'].str.replace('  ', ' ')\n",
    "    dataset['text'] = dataset['text'].str.replace(\"\\n\", \" \").replace(\"\\r\", \" \")\n",
    "    dataset['text'] = dataset['text'].str.replace(\"  \", \" \")\n",
    "    # Drop duplicate rows\n",
    "    dataset.drop_duplicates(subset=['text'], inplace=True)\n",
    "    print(\"New shape:\", dataset.shape)\n",
    "    return dataset\n",
    "\n",
    "\n",
    "data = clean_data(dataset)\n",
    "dataframe = data\n",
    "\n",
    "\n",
    "def Remove_StopWords(docs):\n",
    "    lemmas = []\n",
    "    for tok in docs:\n",
    "        lemmas.append(tok.lemma_.lower().strip() if tok.lemma_ != \"-PRON-\" else tok.lower_)\n",
    "        tokens = lemmas\n",
    "        tokens = [tok for tok in tokens if tok not in STOPLIST]\n",
    "        tokens = [w.lower() for w in tokens if w not in ignore_words]\n",
    "        tokens = [tok for tok in tokens if tok not in SYMBOLS]\n",
    "    return tokens\n",
    "\n",
    "\n",
    "rows_list = []\n",
    "\n",
    "start = time.time()\n",
    "for output in dataframe.text:\n",
    "    doc = nlp(output)\n",
    "    vocabulary = Remove_StopWords(doc)\n",
    "    vectorizer = CountVectorizer(tokenizer=vocabulary,max_features=15,stop_words=ENGLISH_STOP_WORDS, ngram_range=(1, 2))    \n",
    "    # Part of Speech (POS) Tagging\n",
    "    diction = [x.lemma_ for x in [y for y in nlp(str(vectorizer.tokenizer)) if not y.is_stop and y.pos_ != 'PUNCT']]   \n",
    "    rows_list.append(diction)\n",
    "    \n",
    "df = pd.DataFrame(rows_list)\n",
    "df['News'] = df[df.columns[0:]].apply(lambda x: ' '.join(x.dropna().astype(str)), axis=1)\n",
    "df[\"Type\"] = dataframe[\"Type\"]\n",
    "\n",
    "# duplicate_word_list = [word for word, count in Counter(df[\"News\"]).most_common() if count > 1]\n",
    "dfModel = pd.DataFrame(df[[\"News\", \"Type\"]])\n",
    "\n",
    "dfModel=dfModel.dropna()\n",
    "\n",
    "end = time.time()\n",
    "print(\"execution time is\",end - start)"
   ]
  },
  {
   "cell_type": "code",
   "execution_count": 67,
   "metadata": {},
   "outputs": [],
   "source": [
    "#CREATING_LEARNING_CURVE_FUNCTION\n",
    "def plot_learning_curve(estimator, title, X, y, ylim=None, cv=None,\n",
    "                        n_jobs=None, train_sizes=np.linspace(.1, 1.0, 5)):\n",
    "\n",
    "    plt.figure()\n",
    "    plt.title(title)\n",
    "    plt.gca().invert_yaxis()\n",
    "    if ylim is not None:\n",
    "        plt.ylim(*ylim)\n",
    "    plt.xlabel(\"Training examples\")\n",
    "    plt.ylabel(\"Score\")\n",
    "    train_sizes, train_scores, test_scores = learning_curve(\n",
    "        estimator, X, y, cv=cv, n_jobs=n_jobs, train_sizes=train_sizes)\n",
    "    train_scores_mean = np.mean(train_scores, axis=1)\n",
    "    train_scores_std = np.std(train_scores, axis=1)\n",
    "    test_scores_mean = np.mean(test_scores, axis=1)\n",
    "    test_scores_std = np.std(test_scores, axis=1)\n",
    "    plt.grid()\n",
    "\n",
    "    plt.fill_between(train_sizes, train_scores_mean - train_scores_std,\n",
    "                     train_scores_mean + train_scores_std, alpha=0.1,\n",
    "                     color=\"r\")\n",
    "    plt.fill_between(train_sizes, test_scores_mean - test_scores_std,\n",
    "                     test_scores_mean + test_scores_std, alpha=0.1, color=\"g\")\n",
    "    plt.plot(train_sizes, train_scores_mean, 'o-', color=\"r\",\n",
    "             label=\"Training score\")\n",
    "    plt.plot(train_sizes, test_scores_mean, 'o-', color=\"g\",\n",
    "             label=\"Cross-validation score\")\n",
    "\n",
    "    plt.legend(loc=\"best\")\n",
    "    return plt"
   ]
  },
  {
   "cell_type": "code",
   "execution_count": 1,
   "metadata": {},
   "outputs": [
    {
     "ename": "NameError",
     "evalue": "name 'time' is not defined",
     "output_type": "error",
     "traceback": [
      "\u001b[0;31m---------------------------------------------------------------------------\u001b[0m",
      "\u001b[0;31mNameError\u001b[0m                                 Traceback (most recent call last)",
      "\u001b[0;32m<ipython-input-1-519202394d56>\u001b[0m in \u001b[0;36m<module>\u001b[0;34m\u001b[0m\n\u001b[1;32m      3\u001b[0m \u001b[0;32mfrom\u001b[0m \u001b[0msklearn\u001b[0m\u001b[0;34m.\u001b[0m\u001b[0msvm\u001b[0m \u001b[0;32mimport\u001b[0m \u001b[0mSVC\u001b[0m\u001b[0;34m\u001b[0m\u001b[0;34m\u001b[0m\u001b[0m\n\u001b[1;32m      4\u001b[0m \u001b[0;32mfrom\u001b[0m \u001b[0msklearn\u001b[0m \u001b[0;32mimport\u001b[0m \u001b[0msvm\u001b[0m\u001b[0;34m\u001b[0m\u001b[0;34m\u001b[0m\u001b[0m\n\u001b[0;32m----> 5\u001b[0;31m \u001b[0mstart\u001b[0m \u001b[0;34m=\u001b[0m \u001b[0mtime\u001b[0m\u001b[0;34m.\u001b[0m\u001b[0mtime\u001b[0m\u001b[0;34m(\u001b[0m\u001b[0;34m)\u001b[0m\u001b[0;34m\u001b[0m\u001b[0;34m\u001b[0m\u001b[0m\n\u001b[0m\u001b[1;32m      6\u001b[0m \u001b[0;34m\u001b[0m\u001b[0m\n\u001b[1;32m      7\u001b[0m \u001b[0mtf_idf\u001b[0m \u001b[0;34m=\u001b[0m \u001b[0mTfidfVectorizer\u001b[0m\u001b[0;34m(\u001b[0m\u001b[0mstop_words\u001b[0m\u001b[0;34m=\u001b[0m\u001b[0mENGLISH_STOP_WORDS\u001b[0m\u001b[0;34m,\u001b[0m \u001b[0mngram_range\u001b[0m\u001b[0;34m=\u001b[0m\u001b[0;34m(\u001b[0m\u001b[0;36m1\u001b[0m\u001b[0;34m,\u001b[0m \u001b[0;36m2\u001b[0m\u001b[0;34m)\u001b[0m\u001b[0;34m)\u001b[0m\u001b[0;34m\u001b[0m\u001b[0;34m\u001b[0m\u001b[0m\n",
      "\u001b[0;31mNameError\u001b[0m: name 'time' is not defined"
     ]
    }
   ],
   "source": [
    "# SVM Classifier\n",
    "\n",
    "from sklearn.svm import SVC\n",
    "from sklearn import svm\n",
    "start = time.time()\n",
    "\n",
    "tf_idf = TfidfVectorizer(stop_words=ENGLISH_STOP_WORDS, ngram_range=(1, 2))\n",
    "X = dfModel.News.values\n",
    "X_tf_idf = tf_idf.fit_transform(X)\n",
    "y=dfModel.Type.values\n",
    "\n",
    "#  Train the classifier\n",
    "svm = svm.SVC(kernel='rbf', random_state=0, gamma=3, C=1.0)\n",
    "X_train, X_test, y_train, y_test = train_test_split(X_tf_idf, y, test_size=0.2)\n",
    "\n",
    "# get predictions for article section\n",
    "svm.fit(X_train, y_train)\n",
    "scores = cross_val_score(svm, X_train, y_train, cv=10)\n",
    "\n",
    "print(\"Support Vector Machine Classifier \\n\")\n",
    "print(\"Training Accuracy \",svm.score(X_train, y_train))\n",
    "print(\"Training Validated scores: Mean: %0.2f (+/- Std: %0.2f)\" % (scores.mean(), scores.std() * 2))\n",
    "print()\n",
    "\n",
    "y_pred = svm.predict(X_test)\n",
    "accuracy = r2_score(y_test, y_pred)\n",
    "print (\"R2 Score:\", accuracy)\n",
    "print()\n",
    "\n",
    "print(\"Predicted Accuracy score {:.4}%\".format(accuracy_score(y_test, y_pred) * 100))\n",
    "print('Misclassified samples: %d' % (y_test != y_pred).sum())\n",
    "print()    \n",
    "\n",
    "end = time.time()\n",
    "print(\"execution time is\",end - start)\n",
    "\n",
    "title = \"Learning Curves (SVM)\"\n",
    "cv = ShuffleSplit(n_splits=10, test_size=0.2, random_state=0)\n",
    "# cross_val_score(svm,X_tf_idf , y, cv=cv)  \n",
    "plot_learning_curve(svm, title, X_tf_idf, y, ylim=(0.5, 1.01), cv=cv, n_jobs=10)"
   ]
  },
  {
   "cell_type": "code",
   "execution_count": 70,
   "metadata": {},
   "outputs": [
    {
     "name": "stdout",
     "output_type": "stream",
     "text": [
      "Logistic Regression Classifier \n",
      "\n",
      "Training Accuracy  0.9974874371859297\n",
      "Training Validated scores: Mean: 0.86 (+/- Std: 0.05)\n",
      "\n",
      "R2 Score: 0.4391025641025641\n",
      "\n",
      "Predicted Accuracy score 86.0%\n",
      "Misclassified samples: 14\n",
      "\n",
      "execution time is 0.9627890586853027\n"
     ]
    },
    {
     "data": {
      "text/plain": [
       "<module 'matplotlib.pyplot' from '/anaconda3/lib/python3.7/site-packages/matplotlib/pyplot.py'>"
      ]
     },
     "execution_count": 70,
     "metadata": {},
     "output_type": "execute_result"
    },
    {
     "data": {
      "image/png": "[encoded data removed]",
      "text/plain": [
       "<Figure size 432x288 with 1 Axes>"
      ]
     },
     "metadata": {
      "needs_background": "light"
     },
     "output_type": "display_data"
    }
   ],
   "source": [
    "# SVM Classifier\n",
    "\n",
    "from sklearn.svm import SVC\n",
    "from sklearn import svm\n",
    "start = time.time()\n",
    "\n",
    "tf_idf = TfidfVectorizer(stop_words=ENGLISH_STOP_WORDS, ngram_range=(1, 2))\n",
    "X = dfModel.News.values\n",
    "X_tf_idf = tf_idf.fit_transform(X)\n",
    "y = dfModel.Type.values\n",
    "\n",
    "#  Train the classifier\n",
    "logit = LogisticRegression(solver='liblinear')\n",
    "\n",
    "X_train, X_test, y_train, y_test = train_test_split(X_tf_idf, y, test_size=0.2)\n",
    "\n",
    "logit.fit(X_train, y_train)\n",
    "\n",
    "scores = cross_val_score(logit, X_train, y_train, cv=10)\n",
    "print(\"Logistic Regression Classifier \\n\")\n",
    "print(\"Training Accuracy \",logit.score(X_train, y_train))\n",
    "print(\"Training Validated scores: Mean: %0.2f (+/- Std: %0.2f)\" % (scores.mean(), scores.std() * 2))\n",
    "print()\n",
    "\n",
    "y_pred = logit.predict(X_test)\n",
    "accuracy = r2_score(y_test, y_pred)\n",
    "print (\"R2 Score:\", accuracy)\n",
    "print()\n",
    "\n",
    "print(\"Predicted Accuracy score {:.4}%\".format(accuracy_score(y_test, y_pred) * 100))\n",
    "print('Misclassified samples: %d' % (y_test != y_pred).sum())\n",
    "print()    \n",
    "\n",
    "end = time.time()\n",
    "print(\"execution time is\",end - start)\n",
    "\n",
    "title = \"Learning Curves (Logistic Regression)\"\n",
    "cv = ShuffleSplit(n_splits=10, test_size=0.2, random_state=0)\n",
    "# cross_val_score(svm,X_tf_idf , y, cv=cv)  \n",
    "plot_learning_curve(logit, title, X_tf_idf, y, ylim=(0.5, 1.01), cv=cv, n_jobs=10)"
   ]
  },
  {
   "cell_type": "code",
   "execution_count": 71,
   "metadata": {},
   "outputs": [
    {
     "name": "stdout",
     "output_type": "stream",
     "text": [
      "Naive Bayes Classifier \n",
      "\n",
      "Training Accuracy  1.0\n",
      "Training Validated scores: Mean: 0.95 (+/- Std: 0.05)\n",
      "\n",
      "R2 Score: 0.9173212071103762\n",
      "\n",
      "Predicted Accuracy score 98.0%\n",
      "Misclassified samples: 2\n",
      "\n",
      "execution time is 0.6607379913330078\n"
     ]
    },
    {
     "data": {
      "text/plain": [
       "<module 'matplotlib.pyplot' from '/anaconda3/lib/python3.7/site-packages/matplotlib/pyplot.py'>"
      ]
     },
     "execution_count": 71,
     "metadata": {},
     "output_type": "execute_result"
    },
    {
     "data": {
      "image/png": "[encoded data removed]",
      "text/plain": [
       "<Figure size 432x288 with 1 Axes>"
      ]
     },
     "metadata": {
      "needs_background": "light"
     },
     "output_type": "display_data"
    }
   ],
   "source": [
    "#countvectorizer does the bag of words for us \n",
    "start = time.time()\n",
    "\n",
    "bigram_vectorizer = CountVectorizer(ngram_range=(1, 2),token_pattern=r'\\b\\w+\\b', min_df=1)\n",
    "x_vectors = bigram_vectorizer.fit_transform(dfModel.News.values)\n",
    "y_vectors=dfModel.Type.values\n",
    "\n",
    "# Build the classifier\n",
    "clf = MultinomialNB(alpha=.01)\n",
    "X_train, X_test, y_train, y_test = train_test_split(x_vectors, y_vectors, test_size=0.2)\n",
    "\n",
    "#  Train the classifier\n",
    "clf.fit(X_train,y_train)\n",
    "\n",
    "print(\"Naive Bayes Classifier\", '\\n')\n",
    "scores = cross_val_score(clf, X_train, y_train, cv=10)\n",
    "print(\"Training Accuracy \",clf.score(X_train, y_train))\n",
    "print(\"Training Validated scores: Mean: %0.2f (+/- Std: %0.2f)\" % (scores.mean(), scores.std() * 2))\n",
    "print()\n",
    "\n",
    "y_pred = clf.predict(X_test)\n",
    "accuracy = r2_score(y_test, y_pred)\n",
    "print (\"R2 Score:\", accuracy)\n",
    "print()\n",
    "\n",
    "print(\"Predicted Accuracy score {:.4}%\".format(accuracy_score(y_test, y_pred) * 100))\n",
    "print('Misclassified samples: %d' % (y_test != y_pred).sum())\n",
    "print()    \n",
    "\n",
    "end = time.time()\n",
    "print(\"execution time is\",end - start)\n",
    "\n",
    "title = \"Learning Curves (Multinomial Naive Bayes)\"\n",
    "cv = ShuffleSplit(n_splits=10, test_size=0.2, random_state=0, train_size=0.8)\n",
    "plot_learning_curve(clf, title, x_vectors, y_vectors, ylim=(0.8, 1.01), cv=cv, n_jobs=4)"
   ]
  },
  {
   "cell_type": "code",
   "execution_count": 72,
   "metadata": {},
   "outputs": [
    {
     "name": "stdout",
     "output_type": "stream",
     "text": [
      "Random Forest Classfier\n",
      "Training Accuracy  1.0\n",
      "Training Validated scores: Mean: 0.98 (+/- Std: 0.06)\n",
      "\n",
      "R2 Score: 0.9592003263973888\n",
      "\n",
      "Predicted Accuracy score 99.0%\n",
      "Misclassified samples: 1\n",
      "\n",
      "execution time is 1.5976717472076416\n"
     ]
    },
    {
     "data": {
      "text/plain": [
       "<module 'matplotlib.pyplot' from '/anaconda3/lib/python3.7/site-packages/matplotlib/pyplot.py'>"
      ]
     },
     "execution_count": 72,
     "metadata": {},
     "output_type": "execute_result"
    },
    {
     "data": {
      "image/png": "[encoded data removed]",
      "text/plain": [
       "<Figure size 432x288 with 1 Axes>"
      ]
     },
     "metadata": {
      "needs_background": "light"
     },
     "output_type": "display_data"
    }
   ],
   "source": [
    "# Random_forest_classifier\n",
    "start = time.time()\n",
    "\n",
    "vectorizer = CountVectorizer(analyzer = 'word',stop_words=ENGLISH_STOP_WORDS, ngram_range=(1, 2))\n",
    "x_vectors = vectorizer.fit_transform(dataset.text.values)\n",
    "y = dataset.Type.values\n",
    "X_train, X_test, y_train, y_test = train_test_split(x_vectors, y, test_size=0.2, random_state=42) # Get a training and test dataset\n",
    "\n",
    "# n_estimators is the number of random forests to use\n",
    "# n_jobs says to use all processors available\n",
    "rf = RandomForestClassifier(n_estimators=10, criterion = 'entropy')\n",
    "rf.fit(X_train, y_train)\n",
    "\n",
    "print(\"Random Forest Classfier\")\n",
    "scores = cross_val_score(rf, X_train, y_train, cv=10)\n",
    "print(\"Training Accuracy \",rf.score(X_train, y_train))\n",
    "print(\"Training Validated scores: Mean: %0.2f (+/- Std: %0.2f)\" % (scores.mean(), scores.std() * 2))\n",
    "print()\n",
    "\n",
    "y_pred = rf.predict(X_test)\n",
    "accuracy = r2_score(y_test, y_pred)\n",
    "print (\"R2 Score:\", accuracy)\n",
    "print()\n",
    "\n",
    "print(\"Predicted Accuracy score {:.4}%\".format(accuracy_score(y_test, y_pred) * 100))\n",
    "print('Misclassified samples: %d' % (y_test != y_pred).sum())\n",
    "print()    \n",
    "\n",
    "end = time.time()\n",
    "print(\"execution time is\",end - start)\n",
    "\n",
    "title = \"Learning Curves (Random Forest)\"\n",
    "cv = ShuffleSplit(n_splits=10, test_size=0.2, random_state=0, train_size=0.8)\n",
    "# cv=KFold(n_splits=100, random_state=None, shuffle=True)\n",
    "plot_learning_curve(rf, title, x_vectors, y, ylim=(0.5, 1.01), cv=cv, n_jobs=4)"
   ]
  },
  {
   "cell_type": "code",
   "execution_count": 93,
   "metadata": {},
   "outputs": [],
   "source": [
    "# kf = KFold(n_splits = 10, shuffle = True)\n",
    "# scores = []\n",
    "# for i in range(0,10):\n",
    "#     result = next(kf.split(X_tf_idf), None)\n",
    "#     x_train = X_tf_idf[result[0]]\n",
    "#     x_test = X_tf_idf[result[1]]\n",
    "#     y_train = y[result[0]]\n",
    "#     y_test = y[result[1]]\n",
    "#     model = svm.fit(x_train,y_train)\n",
    "#     predictions = svm.predict(x_test)\n",
    "#     scores.append(model.score(x_test,y_test))\n",
    "# print('Scores from each Iteration: ', scores)\n",
    "# print('Average K-Fold Score :' , np.mean(scores))"
   ]
  },
  {
   "cell_type": "code",
   "execution_count": null,
   "metadata": {},
   "outputs": [],
   "source": []
  },
  {
   "cell_type": "code",
   "execution_count": null,
   "metadata": {},
   "outputs": [],
   "source": []
  }
 ],
 "metadata": {
  "kernelspec": {
   "display_name": "Python 3",
   "language": "python",
   "name": "python3"
  },
  "language_info": {
   "codemirror_mode": {
    "name": "ipython",
    "version": 3
   },
   "file_extension": ".py",
   "mimetype": "text/x-python",
   "name": "python",
   "nbconvert_exporter": "python",
   "pygments_lexer": "ipython3",
   "version": "3.7.3"
  }
 },
 "nbformat": 4,
 "nbformat_minor": 2
}
