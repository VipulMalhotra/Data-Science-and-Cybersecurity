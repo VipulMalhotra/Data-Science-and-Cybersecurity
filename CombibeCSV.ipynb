{
 "cells": [
  {
   "cell_type": "code",
   "execution_count": null,
   "metadata": {},
   "outputs": [],
   "source": [
    "import pandas as pd\n",
    "\n",
    "dataset_true = pd.read_csv('True.csv')\n",
    "for i in range(1, 500):\n",
    "    dataset_true[\"Type\"] = 0\n",
    "    dataset_true[\"TypeName\"] = \"True\"\n",
    "\n",
    "dataset_false = pd.read_csv('Fake.csv')\n",
    "for i in range(1, 500):\n",
    "    dataset_false[\"Type\"] = 1\n",
    "    dataset_false[\"TypeName\"] = \"Fake\"\n",
    "\n",
    "dataset = pd.concat([dataset_true[0:500], dataset_false[0:500]], sort=True)\n",
    "export_csv = dataset.to_csv('SampleDataset.csv', index=None, header=True)\n",
    "\n"
   ]
  }
 ],
 "metadata": {
  "kernelspec": {
   "display_name": "Python 3",
   "language": "python",
   "name": "python3"
  },
  "language_info": {
   "codemirror_mode": {
    "name": "ipython",
    "version": 3
   },
   "file_extension": ".py",
   "mimetype": "text/x-python",
   "name": "python",
   "nbconvert_exporter": "python",
   "pygments_lexer": "ipython3",
   "version": "3.7.3"
  }
 },
 "nbformat": 4,
 "nbformat_minor": 2
}
